{
 "cells": [
  {
   "cell_type": "markdown",
   "metadata": {},
   "source": [
    "**Notebook: Visualizaciones**"
   ]
  },
  {
   "cell_type": "markdown",
   "metadata": {},
   "source": [
    "<img src=\"http://oci02.img.iteso.mx/identidad_de_instancia_2018/ITESO/Logos%20ITESO/Logo-ITESO-Principal.jpg\">"
   ]
  },
  {
   "cell_type": "markdown",
   "metadata": {},
   "source": [
    "<center> <font color= #004A94> <font size = 6> Msc Ciencia de datos </font> <br> <br> <font color= #047CFB> <font size = 4>I.F. Juan Francisco Muñoz Elguezabal - franciscome@iteso.mx </font>"
   ]
  },
  {
   "cell_type": "markdown",
   "metadata": {},
   "source": [
    "<center><font color= #004A94> <font size = 6> ANÁLISIS ESTADÍSTICO MULTIVARIABLE </font> <br> <br>"
   ]
  },
  {
   "cell_type": "markdown",
   "metadata": {},
   "source": [
    "<center><font color=#42c29b><font size=5> Una comparación entre modelos regresivos lineales y clustering secuencial como predictores de series de tiempo financieras </font> <br> <br>\n",
    "\n",
    "<center><font color=#047CFB><font size=5> El caso  de una estrategia de trading para el mercado internacional de divisas </font> <br> <br> \n",
    "    \n",
    "<center> <font color= #047CFB> <font size = 4> Repositorio: <a href='https://github.com/IFFranciscoME/FinTechLab/tree/master/'>Link</a></font>"
   ]
  },
  {
   "cell_type": "markdown",
   "metadata": {},
   "source": [
    "---"
   ]
  },
  {
   "cell_type": "markdown",
   "metadata": {},
   "source": [
    "## <span style=\"color:#004A94\"> Cargar librerías </span>"
   ]
  },
  {
   "cell_type": "code",
   "execution_count": null,
   "metadata": {},
   "outputs": [],
   "source": [
    "import plotly.graph_objs as go                            # objetos de imagenes para funcion principal\n",
    "import plotly.io as pio                                   # renderizador para visualizar imagenes\n",
    "import numpy as np                                        # funciones numericas\n",
    "pio.renderers.default = \"browser\"                         # render de imagenes para correr en script"
   ]
  },
  {
   "cell_type": "markdown",
   "metadata": {},
   "source": [
    "## <span style=\"color:#004A94\"> GRÁFICA: velas OHLC Simple </span>"
   ]
  },
  {
   "cell_type": "code",
   "execution_count": null,
   "metadata": {},
   "outputs": [],
   "source": [
    "# -- ------------------------------------------------------------------------ GRÁFICA: velas OHLC Simple -- #\n",
    "# -- --------------------------------------------------------------------------------------------------- -- #\n",
    "\n",
    "def g_velas(p0_de):\n",
    "    \"\"\"\n",
    "    :param p0_de: data frame con datos a graficar\n",
    "    :return fig:\n",
    "\n",
    "    p0_de = datos_dd\n",
    "    p1_pa = 'sell'\n",
    "    datos_dd = pd.DataFrame({'timestamp': [], 'open': [], 'high': [], 'low': [], 'close': []}, index=[])\n",
    "    \"\"\"\n",
    "\n",
    "    p0_de.columns = [list(p0_de.columns)[i].lower() for i in range(0, len(p0_de.columns))]\n",
    "\n",
    "    fig = go.Figure(data=[go.Candlestick(x=p0_de['timestamp'],\n",
    "                                         open=p0_de['open'], high=p0_de['high'],\n",
    "                                         low=p0_de['low'], close=p0_de['close'])])\n",
    "\n",
    "    fig.update_layout(margin=go.layout.Margin(l=50, r=50, b=20, t=50, pad=0),\n",
    "                      title=dict(x=0.5, y=1, text='Precios Historicos OHLC'),\n",
    "                      xaxis=dict(title_text='Hora del dia', rangeslider=dict(visible=False)),\n",
    "                      yaxis=dict(title_text='Precio del EurUsd'))\n",
    "\n",
    "    fig.layout.autosize = False\n",
    "    fig.layout.width = 840\n",
    "    fig.layout.height = 520\n",
    "\n",
    "    return fig"
   ]
  },
  {
   "cell_type": "markdown",
   "metadata": {},
   "source": [
    "## <span style=\"color:#004A94\"> GRÁFICA: velas OHLC Reaccion </span>"
   ]
  },
  {
   "cell_type": "code",
   "execution_count": null,
   "metadata": {},
   "outputs": [],
   "source": [
    "# -- ---------------------------------------------------------------------- GRÁFICA: velas OHLC Reaccion -- #\n",
    "# -- --------------------------------------------------------------------------------------------------- -- #\n",
    "\n",
    "def g_velas_reaccion(p0_de):\n",
    "    \"\"\"\n",
    "    :param p0_de: data frame con datos a graficar\n",
    "    :return fig:\n",
    "\n",
    "    p0_de = datos_dd\n",
    "    p1_pa = 'sell'\n",
    "    datos_dd = pd.DataFrame({'timestamp': [], 'open': [], 'high': [], 'low': [], 'close': []}, index=[])\n",
    "    \"\"\"\n",
    "\n",
    "    # p0_de['timestamp'] = [(pd.to_datetime(p0_de['timestamp']))[x].tz_localize('UTC')\n",
    "    #                           for x in range(0, len(p0_de['timestamp']))]\n",
    "\n",
    "    f_i = p0_de['timestamp'].loc[0]\n",
    "\n",
    "    yini = p0_de['high'][0]\n",
    "    yfin = max(p0_de['high'])\n",
    "    fig = go.Figure(data=[go.Candlestick(x=p0_de['timestamp'],\n",
    "                                         open=p0_de['open'], high=p0_de['high'],\n",
    "                                         low=p0_de['low'], close=p0_de['close'])])\n",
    "\n",
    "    lineas = [dict(x0=f_i, x1=f_i, xref='x', y0=yini, y1=yfin, yref='y', type='line',\n",
    "                   line=dict(color='red', width=1.5, dash='dashdot'))]\n",
    "\n",
    "    fig.update_layout(margin=go.layout.Margin(l=50, r=50, b=20, t=50, pad=0),\n",
    "                      title=dict(x=0.5, text='Reacción del precio (intradía) ante el comunicado de un'\n",
    "                                             ' <b> indicador económico </b>'),\n",
    "                      xaxis=dict(title_text='Hora del dia', rangeslider=dict(visible=False)),\n",
    "                      yaxis=dict(title_text='Precio del EurUsd'),\n",
    "                      annotations=[go.layout.Annotation(x=f_i, y=1.025, xref=\"x\",\n",
    "                                                        yref=\"paper\", showarrow=False,\n",
    "                                                        text=\"Indicador Comunicado\")],\n",
    "                      shapes=lineas)\n",
    "\n",
    "    fig.layout.autosize = False\n",
    "    fig.layout.width = 840\n",
    "    fig.layout.height = 520\n",
    "\n",
    "    return fig"
   ]
  },
  {
   "cell_type": "markdown",
   "metadata": {},
   "source": [
    "## <span style=\"color:#004A94\"> GRÁFICA: lineas series de tiempo </span>"
   ]
  },
  {
   "cell_type": "code",
   "execution_count": null,
   "metadata": {},
   "outputs": [],
   "source": [
    "# -- ------------------------------------------------------------------ GRÁFICA: lineas series de tiempo -- #\n",
    "# -- --------------------------------------------------------------------------------------------------- -- #\n",
    "\n",
    "def g_lineas(p_datos1, p_datos2):\n",
    "    \"\"\"\n",
    "    :param p_datos1\n",
    "    :param p_datos2\n",
    "\n",
    "    :return:\n",
    "    \"\"\"\n",
    "\n",
    "    n = len(p_datos1)\n",
    "    random_x = list(np.arange(n))\n",
    "    random_y0 = p_datos1\n",
    "    random_y1 = p_datos2\n",
    "\n",
    "    # Create traces\n",
    "    fig = go.Figure()\n",
    "\n",
    "    fig.update_layout(margin=go.layout.Margin(l=50, r=50, b=20, t=50, pad=0),\n",
    "                      title=dict(x=0.5, y=1, text='Patron encontrado'),\n",
    "                      xaxis=dict(title_text='fechas', rangeslider=dict(visible=False)),\n",
    "                      yaxis=dict(title_text='precios (co)'))\n",
    "\n",
    "    fig.add_trace(go.Scatter(x=random_x, y=random_y0, mode='lines', name='serie_query'))\n",
    "    fig.add_trace(go.Scatter(x=random_x, y=random_y1, mode='lines', name='serie'))\n",
    "\n",
    "    fig.update_layout(legend_orientation=\"h\")\n",
    "\n",
    "    fig.layout.autosize = False\n",
    "    fig.layout.width = 840\n",
    "    fig.layout.height = 520\n",
    "\n",
    "    return fig"
   ]
  }
 ],
 "metadata": {
  "kernelspec": {
   "display_name": "Python 3",
   "language": "python",
   "name": "python3"
  },
  "language_info": {
   "codemirror_mode": {
    "name": "ipython",
    "version": 3
   },
   "file_extension": ".py",
   "mimetype": "text/x-python",
   "name": "python",
   "nbconvert_exporter": "python",
   "pygments_lexer": "ipython3",
   "version": "3.6.8"
  }
 },
 "nbformat": 4,
 "nbformat_minor": 2
}
