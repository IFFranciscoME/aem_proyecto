{
 "cells": [
  {
   "cell_type": "markdown",
   "metadata": {},
   "source": [
    "**Notebook: Principal**"
   ]
  },
  {
   "cell_type": "markdown",
   "metadata": {},
   "source": [
    "<img src=\"http://oci02.img.iteso.mx/identidad_de_instancia_2018/ITESO/Logos%20ITESO/Logo-ITESO-Principal.jpg\">"
   ]
  },
  {
   "cell_type": "markdown",
   "metadata": {},
   "source": [
    "<center> <font color= #004A94> <font size = 6> Msc Ciencia de datos </font> <br> <br> <font color= #047CFB> <font size = 4>I.F. Juan Francisco Muñoz Elguezabal - franciscome@iteso.mx </font>"
   ]
  },
  {
   "cell_type": "markdown",
   "metadata": {},
   "source": [
    "<center><font color= #004A94> <font size = 6> ANÁLISIS ESTADÍSTICO MULTIVARIABLE </font> <br> <br>\n"
   ]
  },
  {
   "cell_type": "markdown",
   "metadata": {},
   "source": [
    "<center><font color=#42c29b><font size=5> Una comparación entre modelos regresivos lineales y clustering secuencial como predictores de series de tiempo financieras </font> <br> <br>\n",
    "\n",
    "<center><font color=#047CFB><font size=5> El caso  de una estrategia de trading para el mercado internacional de divisas </font> <br> <br> \n",
    "    \n",
    "<center> <font color= #047CFB> <font size = 4> Repositorio: <a href='https://github.com/IFFranciscoME/FinTechLab/tree/master/'>Link</a></font>"
   ]
  },
  {
   "cell_type": "markdown",
   "metadata": {},
   "source": [
    "---"
   ]
  },
  {
   "cell_type": "markdown",
   "metadata": {},
   "source": [
    "## <span style=\"color:#004A94\"> Introducción </span>"
   ]
  },
  {
   "cell_type": "markdown",
   "metadata": {},
   "source": [
    "Este trabajo es realizado como proyecto final muestra para la materia de *Análisis Estadístico Multivariable*, cursada en el periodo de Otoño 2019. Esta materia es parte del posgrado *Maestría en Ciencia de Datos* ofertado en la universidad **ITESO**. Los temas y modelos abordados en este trabajo fueron: \n",
    "\n",
    "- Regresión Lineal Multivariada (con variables endógenas).\n",
    "- Principal Component Analysis (PCA).\n",
    "- ANOVA.\n",
    "- Clustering.\n",
    "\n",
    "Como producto de un esfuerzo extra, este trabajo tiene las siguientes características:\n",
    "\n",
    "- **Clustering secuencial para series de tiempo**: *Mueen's Algorithm for Sequential Similarity : MASS*\n",
    "- **BigData**: Serie de tiempo de 3.9 millones de datos, 296,000 datos atemporales.\n",
    "- **Procesamiento en Paralelo**: Con ayuda de librerías, funciones procesadas en 4 nucleos.\n",
    "- **Investigación reproducible**: Jupyter Notebook, Git para control de versiones.\n",
    "- **Programación eficiente vectorizada**: Compresión de listas-diccionarios, lambdas, arreglos.\n",
    "- **Ingeniería de variables**: Tratamiento de datos previo a modelos. \n",
    "- **Visualización de datos**: Plotly para visualización interactiva de datos."
   ]
  },
  {
   "cell_type": "markdown",
   "metadata": {},
   "source": [
    "El propósito de este trabajo fue utilizar los modelos y teorías vistas en clase para proponer un análisis y generación de modelos para mostrar una aplicación de los mismos. Tal aplicación debía de ser buscando una situación que estuviera lo más apegada a condiciones reales y que fuera del interés del estudiante, cumpliendo también con requisitos básicos como lo fueron: 1) Desarrollar por lo menos 3 modelos y/o técnicas vistas en clase, 2) Generación de un documento tipo reporte, 3) Con una estructura general de Introducción, Desarrollo y Conclusiones."
   ]
  },
  {
   "cell_type": "markdown",
   "metadata": {},
   "source": [
    "### <span style=\"color:#004A94\"> Problema base </span>"
   ]
  },
  {
   "cell_type": "markdown",
   "metadata": {},
   "source": [
    "Fue elegido el ámbito de *Finanzas bursátiles* y el proceso de *trading* o *compra/venta* de activos financieros, particularmente en el *Trading algorítmico en el mercado internacional de divisas*. Más en concreto, se plantea como propósito de este trabajo los siguientes enunciados:\n",
    "\n",
    "- Se busca construir un predictor del tipo de cambio Eur/Usd utilizando un modelo regresivo lineal multivariado con variables endógenas.\n",
    "- Se busca explorar la reacción del tipo de cambio Eur/Usd ante el comunicado de indicadores económicos semanales, tanto para la economía de USA, la Zona Euro, y para las economías individuales de Francia y Alemania."
   ]
  },
  {
   "cell_type": "markdown",
   "metadata": {},
   "source": [
    "---"
   ]
  },
  {
   "cell_type": "markdown",
   "metadata": {},
   "source": [
    "## <span style=\"color:#004A94\"> Modelos </span>"
   ]
  },
  {
   "cell_type": "markdown",
   "metadata": {},
   "source": [
    "La aplicación de los modelos fue con la siguiente dinámica:\n",
    "\n",
    "- **Meta modelo 1**: RLM con variables endógenas y reducción de dimensionalidad con PCA.\n",
    "- - *Con información para fechas desde 2009-01-06 00:00 GMT hasta 2019-12-06 00:00 GMT*\n",
    "- - *Precios semanales del Eur/Usd*\n",
    "- **Meta modelo 2**: ANOVA y Clustering Secuencial de series de tiempo con MASS.\n",
    "- - *Con información para fechas desde 2009-01-06 00:00 GMT hasta 2019-12-06 GMT*\n",
    "- - *Calendario económico para USA y Zona Euro*\n",
    "- - *Precios de cada minuto del Eur/Usd*"
   ]
  },
  {
   "cell_type": "markdown",
   "metadata": {},
   "source": [
    "### <span style=\"color:#004A94\"> Descripción de archivos </span>"
   ]
  },
  {
   "cell_type": "markdown",
   "metadata": {},
   "source": [
    "En la carpeta del proyecto, se colocó una subcarpeta llamada *archivos*, en donde se colocaron todos los archivos con los datos utilizados para este proyecto. La relación de los archivos es la siguiente:\n",
    "\n",
    "- **Eur_Usd_M1.csv** : Precios históricos, en formato OHLC (*Open*, *High*, *Low*, *Close*), del tipo de cambio Euro Vs Dólar americano, tomados con una periodicidad de cada 1 minuto, para las fechas de *2009-01-06 00:00:00* hasta *2019-12-06 00:00:00*\n",
    "- **Eur_Usd_M5.csv** : Precios históricos, en formato OHLC (*Open*, *High*, *Low*, *Close*), del tipo de cambio Euro Vs Dólar americano, tomados con una periodicidad de cada 5 minutos, para las fechas de *2009-01-06 00:00:00* hasta *2019-12-06 00:00:00*.\n",
    "- **Eur_Usd_W.csv** : Precios históricos, en formato OHLC (*Open*, *High*, *Low*, *Close*), del tipo de cambio Euro Vs Dólar americano, tomados con una periodicidad de cada semana, para las fechas de *2009-01-06 00:00:00* hasta *2019-12-06 00:00:00*.\n",
    "- **Calendario_Economico.csv** : Información de comunicación histórica de indicadores macroeconómicos para las economías de USA, Zona Euro, Alemania y Francia, para las fechas de *2009-01-06 00:00:00* hasta *2019-12-06 00:00:00*."
   ]
  },
  {
   "cell_type": "markdown",
   "metadata": {},
   "source": [
    "### <span style=\"color:#004A94\"> Descripción de notebooks </span>"
   ]
  },
  {
   "cell_type": "markdown",
   "metadata": {},
   "source": [
    "En la carpeta del proyecto, se colocó una subcarpeta llamada *notebooks*, en donde se colocaron todos los archivos de los jupyter notebooks que explican los procesos complementarios al proyecto. La relación de los archivos es la siguiente:\n",
    "\n",
    "- **aem_proyecto_slides.html** : Notebook reacomodado para utilizarlo como presentación. \n",
    "- **aem_proyecto_principal.html** : Notebook del presente documento. En este se incluye el flujo del script *principal.py* \n",
    "- **aem_proyecto_funciones.html** : Notebook con la explicación del código contenido en el script *funciones.py*\n",
    "- **aem_proyecto_datos.html** : Notebook con la explicación del código contenido en el script *datos.py*\n",
    "- **aem_proyecto_visualizaciones.html** : Notebook con la explicación del código contenido en el script *visualizaciones.py*"
   ]
  },
  {
   "cell_type": "markdown",
   "metadata": {},
   "source": [
    "### <span style=\"color:#004A94\"> Importar funciones y datos </span>"
   ]
  },
  {
   "cell_type": "code",
   "execution_count": 2,
   "metadata": {},
   "outputs": [],
   "source": [
    "import funciones as fn                          # Importar funcione especiales hechas para este proyecto\n",
    "import visualizaciones as vs                    # Importar funciones para visualizaciones\n",
    "from datos import df_pe_w as df_pe_w            # Importar los precios historicos semanales\n",
    "from datos import df_ce_w as df_ce_w            # Importar los indicadores económicos historicos\n",
    "from datos import df_pe_m1 as df_pe_m1          # Importar los indicadores económicos historicos"
   ]
  },
  {
   "cell_type": "markdown",
   "metadata": {},
   "source": [
    "### Separación de dataset\n",
    "- Entrenamiento: 80%\n",
    "- Prueba: 20%\n",
    "\n",
    "### Transformación de variables de entrada\n",
    "- Logaritmo a variables ind (lag).\n",
    "- Estandarización a variables ind (todas)."
   ]
  },
  {
   "cell_type": "markdown",
   "metadata": {},
   "source": [
    "## Variables\n",
    "\n",
    "**Variable Dependiente:** La diferencia entre el precio de cierre y el precio de apertura de la semana, expresada en términos de *pips*, que significa la *diezmilésima de la unidad*, debido a que es un mercado apalancado.\n",
    "\n",
    "- *y:* (close - open)*10,000\n",
    "\n",
    "**Variables independientes:** Resagos y promedios móviles de la serie, junto con algunas transformaciones. Los periodos utilizados para estos fueron calculados con ACF y PACF, con un reságo máximo de 12 (semanas).\n",
    "\n",
    "- *x_n:* lag_ho_n, lag_ol_n, ma_ho_n, ma_ol_n"
   ]
  },
  {
   "cell_type": "markdown",
   "metadata": {},
   "source": [
    "## Criterios AIC y BIC\n",
    "\n",
    "Son dos criterios de uso frecuente para la selección de modelos.\n",
    "\n",
    "- **AIC**: Akaike information criterion\n",
    "Considera un trade-off entre la bondad de ajuste del modelo y la complejidad del modelo. \n",
    "- **BIC**: Bayesian information criterion\n",
    "criterio de evaluación de modelos en términos de sus probabilidades posteriores. Se interpreta como la probabilidad de que los datos sean generados por el modelo $M_i$\n",
    "\n",
    "**Nota**: Entre algunas de las primeras aplicaciones del AIC sugeridas por el autor de éste índice, Akaike, se encuentran el análisis de componentes principales, regresión m´ultiple y series de tiempo."
   ]
  },
  {
   "cell_type": "markdown",
   "metadata": {},
   "source": [
    "### <span style=\"color:#004A94\"> Modelo A: RLM-EX </span>"
   ]
  },
  {
   "cell_type": "markdown",
   "metadata": {},
   "source": [
    "Un modelo de Regresión Lineal Multivariada con Variables Exógenas (RLM-EX). "
   ]
  },
  {
   "cell_type": "markdown",
   "metadata": {},
   "source": [
    "El modelo inicial fue ajustado con **47 variables independientes (no todas significativas)**, sin embargo se generó un valor de $r² > 0.83$, para ambos conjuntos de datos. El **MSE resultó alto, debido a que recordemos que se multiplicó por 10,000 todas las $y$ y las $x_i$**, por lo tanto era de esperarse que la variación del error cuadrático promedio también escalara en la misma proporción. Es un modelo con alta dimensionalidad, se buscará reducir utilizando el PCA."
   ]
  },
  {
   "cell_type": "markdown",
   "metadata": {},
   "source": [
    "### <span style=\"color:#004A94\"> Modelo B: RLM-EX-PCA </span>"
   ]
  },
  {
   "cell_type": "markdown",
   "metadata": {},
   "source": [
    "Un modelo de Regresión Lineal Multivariada con Variables Exógenas (RLM-EX) y reducción de dimensionalidad utilizando Análisis de Componentes Principales (PCA)."
   ]
  },
  {
   "cell_type": "markdown",
   "metadata": {},
   "source": [
    "Se utilizó la técnica de Análisis de Componentes Principales (PCA) para buscar reducir la dimensionalidad del modelo, esperando también no perder mucho poder explicativo y buscar reducir o mantener los valores de *AIC*, *BIC* y *MSE*."
   ]
  },
  {
   "cell_type": "markdown",
   "metadata": {},
   "source": [
    "Se puede observar que el *MSE* aumentó, el valor de $r²$ disminuyó aunque sigue estando en un rango *aceptable*. La dimesionalidad se redujo por mitad, resultados de medios a moderadamente negativos. Sin embargo, es útil notar que los valores de *BIC* y *AIC*, ambos, disminuyeron, lo que significa que: El ratio entre la bondad de ajuste del modelo Vs la complejidad del modelo mejoró. Por lo tanto, se considera que el modelo ganó mas *explicabilidad* y *simpleza* de lo que perdió en *ajuste* y *mse*. "
   ]
  },
  {
   "cell_type": "markdown",
   "metadata": {},
   "source": [
    "### <span style=\"color:#004A94\"> Modelo C: ANOVA </span>"
   ]
  },
  {
   "cell_type": "markdown",
   "metadata": {},
   "source": [
    "Se diseño un experimento con **ANOVA** para saber si es conveniente utilizar la comunicación de indicadores economicos como \"evento disparador\" que genera los patrones en las series de tiempo. Esto para el mismo escenario, 4 batches.\n",
    "\n",
    "- H0: No hay diferencia significativa entre las medias de las reacciones.\n",
    "- Ha: Si hay diferencia significativa entre las medias de las reacciones.\n",
    "\n",
    "Se partieron las frecuencias de los escenarios en 4 grupos, se hizo la prueba de *ANOVA* para la reacción del precio *(co) o close-open* y se obtuvieron los siguientes resultados:"
   ]
  },
  {
   "cell_type": "markdown",
   "metadata": {},
   "source": [
    "### <span style=\"color:#004A94\"> Modelo D: STS-Clustering-MASS </span>"
   ]
  },
  {
   "cell_type": "markdown",
   "metadata": {},
   "source": [
    "Consiste en la técnica conocida como *Sequential Time Series Clustering*, ó, *Agrupamiento Secuencial de Series de Tiempo*"
   ]
  },
  {
   "cell_type": "markdown",
   "metadata": {},
   "source": [
    "Se trabajo con el índice de confianza del consumidor, *USD Consumer Confidence*, ya que es un indicador de suma importancia para una economía basada en consumo como lo es la de *USA*. El algoritmo de búsqueda del patron de reacción del precio ante el comunicado de este indicador, fue el siguiente:\n",
    "\n",
    "1. Se define una ventana de 30 precios de 1 min (30 minutos de tiempo).\n",
    "2. Se toma la fecha de la primera ocurrencia del indicador con escenario *A*.\n",
    "3. Se define el *motif* la serie de tiempo *co* posterior al comunicado del indicador para la fecha elegida.\n",
    "4. Se busca en todas las fechas de los precios el *motif* definido y se regresan los 100 casos mas similares.\n",
    "5. Se busca si alguno de los 100 casos coincide con las fechas de otros comunicados.\n",
    "6. En caso de haber coincidencias, se guarda el registro de fecha.\n",
    "7. se repite todo el proceso para la siguiente fecha del comunicado del mismo indicador y mismo escenario."
   ]
  }
 ],
 "metadata": {
  "kernelspec": {
   "display_name": "Python 3",
   "language": "python",
   "name": "python3"
  },
  "language_info": {
   "codemirror_mode": {
    "name": "ipython",
    "version": 3
   },
   "file_extension": ".py",
   "mimetype": "text/x-python",
   "name": "python",
   "nbconvert_exporter": "python",
   "pygments_lexer": "ipython3",
   "version": "3.6.8"
  }
 },
 "nbformat": 4,
 "nbformat_minor": 2
}
